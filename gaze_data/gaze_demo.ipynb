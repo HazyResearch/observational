{
 "cells": [
  {
   "cell_type": "markdown",
   "metadata": {},
   "source": [
    "# Visualizing Gaze Data for CXR-P\n",
    "\n",
    "In this demo, we showcase how to load gaze data for CXR-P, and visualize it using heatmaps and saccade plots."
   ]
  },
  {
   "cell_type": "code",
   "execution_count": 1,
   "metadata": {},
   "outputs": [],
   "source": [
    "import sys, os\n",
    "import numpy as np\n",
    "\n",
    "os.chdir(\"../\")\n",
    "from utils import load_gaze_data, make_heatmaps\n",
    "from viz_utils import plot_saccade, plot_heatmap"
   ]
  },
  {
   "cell_type": "markdown",
   "metadata": {},
   "source": [
    "## (1) Retrieve gaze and image data\n",
    "\n",
    "The gaze sequences are of the form [(x1,y1,t1), (x2,y2,t2),..., (xT,yT,tT)], \n",
    "\n",
    "where (x,y) are the coordinates on the screen, and t is the time spent fixating on that location.\n",
    "\n",
    "The length of the sequences, T, is different for each image."
   ]
  },
  {
   "cell_type": "code",
   "execution_count": 2,
   "metadata": {},
   "outputs": [
    {
     "name": "stdout",
     "output_type": "stream",
     "text": [
      "191 files in val split...\n",
      "191 gaze sequences in val split...\n"
     ]
    }
   ],
   "source": [
    "gaze_seqs, labels, img_pths = load_gaze_data(source=\"cxr\",split_type=\"val\",return_img_pths=True)\n",
    "heatmaps = make_heatmaps(gaze_seqs,num_patches=8)\n",
    "\n",
    "# change data_dir to the directory you have the CXR-P dicom images saved\n",
    "data_dir = 'dicom-images-test'\n",
    "img_pths = [os.path.join(data_dir,img_pth) for img_pth in img_pths]"
   ]
  },
  {
   "cell_type": "markdown",
   "metadata": {},
   "source": [
    "## (2) Plot heatmap "
   ]
  },
  {
   "cell_type": "code",
   "execution_count": 3,
   "metadata": {},
   "outputs": [],
   "source": [
    "# choose a random (image,gaze) pair\n",
    "ndx = np.random.randint(len(img_pths))\n",
    "img_pth, gaze_seq, heatmap = img_pths[ndx], gaze_seqs[ndx], heatmaps[ndx].squeeze()"
   ]
  },
  {
   "cell_type": "code",
   "execution_count": 4,
   "metadata": {},
   "outputs": [
    {
     "ename": "FileNotFoundError",
     "evalue": "[Errno 2] No such file or directory: 'test/1.2.276.0.7230010.3.1.2.8323329.2020.1517875170.725652/1.2.276.0.7230010.3.1.3.8323329.2020.1517875170.725651/1.2.276.0.7230010.3.1.4.8323329.2020.1517875170.725653.dcm'",
     "output_type": "error",
     "traceback": [
      "\u001b[0;31m---------------------------------------------------------------------------\u001b[0m",
      "\u001b[0;31mFileNotFoundError\u001b[0m                         Traceback (most recent call last)",
      "\u001b[1;32mセル7 を /Users/ichihararokurou/codes/Master_study/gaze_data/gaze_demo.ipynb\u001b[0m in \u001b[0;36m<cell line: 1>\u001b[0;34m()\u001b[0m\n\u001b[0;32m----> <a href='vscode-notebook-cell:/Users/ichihararokurou/codes/Master_study/gaze_data/gaze_demo.ipynb#ch0000006?line=0'>1</a>\u001b[0m plot_heatmap(source\u001b[39m=\u001b[39;49m\u001b[39m\"\u001b[39;49m\u001b[39mcxr\u001b[39;49m\u001b[39m\"\u001b[39;49m,img_pth\u001b[39m=\u001b[39;49mimg_pth,heatmap\u001b[39m=\u001b[39;49mheatmap)\n",
      "File \u001b[0;32m~/codes/Master_study/viz_utils.py:12\u001b[0m, in \u001b[0;36mplot_heatmap\u001b[0;34m(source, img_pth, heatmap)\u001b[0m\n\u001b[1;32m      9\u001b[0m figure, axs \u001b[39m=\u001b[39m plt\u001b[39m.\u001b[39msubplots(nrows\u001b[39m=\u001b[39m\u001b[39m1\u001b[39m, ncols\u001b[39m=\u001b[39m\u001b[39m2\u001b[39m)\n\u001b[1;32m     11\u001b[0m \u001b[39mif\u001b[39;00m source \u001b[39m==\u001b[39m \u001b[39m\"\u001b[39m\u001b[39mcxr\u001b[39m\u001b[39m\"\u001b[39m:\n\u001b[0;32m---> 12\u001b[0m     ds \u001b[39m=\u001b[39m pydicom\u001b[39m.\u001b[39;49mdcmread(img_pth)\n\u001b[1;32m     13\u001b[0m     img \u001b[39m=\u001b[39m ds\u001b[39m.\u001b[39mpixel_array\n\u001b[1;32m     14\u001b[0m \u001b[39melse\u001b[39;00m:\n",
      "File \u001b[0;32m~/miniforge3/envs/master_study/lib/python3.9/site-packages/pydicom/filereader.py:993\u001b[0m, in \u001b[0;36mdcmread\u001b[0;34m(fp, defer_size, stop_before_pixels, force, specific_tags)\u001b[0m\n\u001b[1;32m    991\u001b[0m     caller_owns_file \u001b[39m=\u001b[39m \u001b[39mFalse\u001b[39;00m\n\u001b[1;32m    992\u001b[0m     logger\u001b[39m.\u001b[39mdebug(\u001b[39m\"\u001b[39m\u001b[39mReading file \u001b[39m\u001b[39m'\u001b[39m\u001b[39m{0}\u001b[39;00m\u001b[39m'\u001b[39m\u001b[39m\"\u001b[39m\u001b[39m.\u001b[39mformat(fp))\n\u001b[0;32m--> 993\u001b[0m     fp \u001b[39m=\u001b[39m \u001b[39mopen\u001b[39;49m(fp, \u001b[39m'\u001b[39;49m\u001b[39mrb\u001b[39;49m\u001b[39m'\u001b[39;49m)\n\u001b[1;32m    994\u001b[0m \u001b[39melif\u001b[39;00m fp \u001b[39mis\u001b[39;00m \u001b[39mNone\u001b[39;00m \u001b[39mor\u001b[39;00m \u001b[39mnot\u001b[39;00m \u001b[39mhasattr\u001b[39m(fp, \u001b[39m\"\u001b[39m\u001b[39mread\u001b[39m\u001b[39m\"\u001b[39m) \u001b[39mor\u001b[39;00m \u001b[39mnot\u001b[39;00m \u001b[39mhasattr\u001b[39m(fp, \u001b[39m\"\u001b[39m\u001b[39mseek\u001b[39m\u001b[39m\"\u001b[39m):\n\u001b[1;32m    995\u001b[0m     \u001b[39mraise\u001b[39;00m \u001b[39mTypeError\u001b[39;00m(\u001b[39m\"\u001b[39m\u001b[39mdcmread: Expected a file path or a file-like, \u001b[39m\u001b[39m\"\u001b[39m\n\u001b[1;32m    996\u001b[0m                     \u001b[39m\"\u001b[39m\u001b[39mbut got \u001b[39m\u001b[39m\"\u001b[39m \u001b[39m+\u001b[39m \u001b[39mtype\u001b[39m(fp)\u001b[39m.\u001b[39m\u001b[39m__name__\u001b[39m)\n",
      "\u001b[0;31mFileNotFoundError\u001b[0m: [Errno 2] No such file or directory: 'test/1.2.276.0.7230010.3.1.2.8323329.2020.1517875170.725652/1.2.276.0.7230010.3.1.3.8323329.2020.1517875170.725651/1.2.276.0.7230010.3.1.4.8323329.2020.1517875170.725653.dcm'"
     ]
    },
    {
     "data": {
      "image/png": "[encoded data removed]",
      "text/plain": [
       "<Figure size 432x288 with 2 Axes>"
      ]
     },
     "metadata": {
      "needs_background": "light"
     },
     "output_type": "display_data"
    }
   ],
   "source": [
    "plot_heatmap(source=\"cxr\",img_pth=img_pth,heatmap=heatmap)"
   ]
  },
  {
   "cell_type": "markdown",
   "metadata": {},
   "source": [
    "## (3) Plot saccade"
   ]
  },
  {
   "cell_type": "code",
   "execution_count": null,
   "metadata": {},
   "outputs": [],
   "source": [
    "plot_saccade(img_pth, gaze_seq, source=\"cxr\")"
   ]
  },
  {
   "cell_type": "code",
   "execution_count": null,
   "metadata": {},
   "outputs": [],
   "source": []
  }
 ],
 "metadata": {
  "kernelspec": {
   "display_name": "Python 3.9.13 ('master_study')",
   "language": "python",
   "name": "python3"
  },
  "language_info": {
   "codemirror_mode": {
    "name": "ipython",
    "version": 3
   },
   "file_extension": ".py",
   "mimetype": "text/x-python",
   "name": "python",
   "nbconvert_exporter": "python",
   "pygments_lexer": "ipython3",
   "version": "3.9.13"
  },
  "orig_nbformat": 4,
  "vscode": {
   "interpreter": {
    "hash": "f3d0a8b412e72570d5e27963912362821b917ae1bb4b776bee1a9585b86d4c50"
   }
  }
 },
 "nbformat": 4,
 "nbformat_minor": 2
}
